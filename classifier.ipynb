{
 "cells": [
  {
   "cell_type": "code",
   "execution_count": null,
   "metadata": {},
   "outputs": [],
   "source": [
    "%conda install pytorch torchvision -c pytorch\n",
    "%conda install -c fastai fastai"
   ]
  },
  {
   "cell_type": "code",
   "execution_count": null,
   "metadata": {},
   "outputs": [],
   "source": [
    "from fastai.vision.all import *\n",
    "from fastcore.all import *"
   ]
  },
  {
   "cell_type": "code",
   "execution_count": null,
   "metadata": {},
   "outputs": [],
   "source": [
    "# Testing cat v dog\n",
    "path = untar_data(URLs.PETS)\n",
    "file_names = get_image_files(path/'images')\n",
    "\n",
    "def label_func(filename):\n",
    "    return \"cat\" if filename.name[0].isupper() else \"dog\"\n",
    "\n",
    "dblock = DataBlock(blocks    = (ImageBlock, CategoryBlock),\n",
    "                   get_items = get_image_files,\n",
    "                   get_y     = label_func,\n",
    "                   splitter  = RandomSplitter(),\n",
    "                   item_tfms = Resize(224))\n",
    "\n",
    "dls = dblock.dataloaders(path/\"images\")\n",
    "dls.show_batch()"
   ]
  },
  {
   "cell_type": "code",
   "execution_count": null,
   "metadata": {},
   "outputs": [],
   "source": [
    "learn = vision_learner(dls, resnet34, metrics=error_rate)\n",
    "learn.fine_tune(1)"
   ]
  },
  {
   "cell_type": "code",
   "execution_count": null,
   "metadata": {},
   "outputs": [],
   "source": [
    "interp = ClassificationInterpretation.from_learner(learn)\n",
    "interp.plot_confusion_matrix(figsize=(6,6))\n",
    "interp.plot_top_losses(9, figsize=(15,10))\n"
   ]
  },
  {
   "cell_type": "code",
   "execution_count": null,
   "metadata": {},
   "outputs": [],
   "source": [
    "img = PILImage.create(file_names[9])\n",
    "\n",
    "prediction,_,probs = learn.predict(img)\n",
    "\n",
    "print(f\"Predicted animal: {prediction}.\")\n",
    "print(f\"Probability it is this animal: {probs[1].item():.6f}\")\n",
    "img.to_thumb(192)"
   ]
  }
 ],
 "metadata": {
  "kernelspec": {
   "display_name": "Python 3 (ipykernel)",
   "language": "python",
   "name": "python3"
  },
  "language_info": {
   "codemirror_mode": {
    "name": "ipython",
    "version": 3
   },
   "file_extension": ".py",
   "mimetype": "text/x-python",
   "name": "python",
   "nbconvert_exporter": "python",
   "pygments_lexer": "ipython3",
   "version": "3.11.5"
  }
 },
 "nbformat": 4,
 "nbformat_minor": 2
}
