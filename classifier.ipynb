{
 "cells": [
  {
   "cell_type": "code",
   "execution_count": 1,
   "metadata": {},
   "outputs": [
    {
     "name": "stdout",
     "output_type": "stream",
     "text": [
      "Retrieving notices: ...working... done\n",
      "Collecting package metadata (current_repodata.json): done\n",
      "Solving environment: unsuccessful initial attempt using frozen solve. Retrying with flexible solve.\n",
      "Solving environment: unsuccessful attempt using repodata from current_repodata.json, retrying with next repodata source.\n",
      "Collecting package metadata (repodata.json): | WARNING conda.models.version:get_matcher(556): Using .* with relational operator is superfluous and deprecated and will be removed in a future version of conda. Your spec was 1.8.0.*, but conda is ignoring the .* and treating it as 1.8.0\n",
      "WARNING conda.models.version:get_matcher(556): Using .* with relational operator is superfluous and deprecated and will be removed in a future version of conda. Your spec was 1.9.0.*, but conda is ignoring the .* and treating it as 1.9.0\n",
      "done\n",
      "Solving environment: unsuccessful initial attempt using frozen solve. Retrying with flexible solve.\n",
      "Solving environment: | \n",
      "Found conflicts! Looking for incompatible packages.\n",
      "This can take several minutes.  Press CTRL-C to abort.\n",
      "                                                                                /failed\n",
      "\n",
      "UnsatisfiableError: The following specifications were found\n",
      "to be incompatible with the existing python installation in your environment:\n",
      "\n",
      "Specifications:\n",
      "\n",
      "  - pytorch -> python[version='*|>=3.12.0rc3,<3.13.0a0|>=3.12.0rc3,<3.13.0a0|>=3.5|>=3.6|>=3.7|>=3.9|>=3.8|3.11.*|3.9.*|3.10.*|3.8.*|3.9.16|3.8.16|3.9.10|3.8.12|3.7.12|3.7.10|3.7.10|3.6.12|3.7.9|3.6.12|3.6.9|3.6.9|3.6.9|3.6.9',build='1_73_pypy|2_73_pypy|3_73_pypy|0_73_pypy|1_73_pypy|0_73_pypy|0_73_pypy|*_cpython|0_73_pypy|0_73_pypy|0_73_pypy|5_73_pypy|5_73_pypy|4_73_pypy|0_73_pypy']\n",
      "  - torchvision -> python[version='>=3.10,<3.11.0a0|>=3.10,<3.11.0a0|>=3.9,<3.10.0a0|>=3.11,<3.12.0a0|>=3.8,<3.9.0a0|>=3.11,<3.12.0a0|>=3.8,<3.9.0a0|>=3.9,<3.10.0a0',build=*_cpython]\n",
      "\n",
      "Your python: python=3.12\n",
      "\n",
      "If python is on the left-most side of the chain, that's the version you've asked for.\n",
      "When python appears to the right, that indicates that the thing on the left is somehow\n",
      "not available for the python version you are constrained to. Note that conda will not\n",
      "change your python version to a different minor version unless you explicitly specify\n",
      "that.\n",
      "\n",
      "The following specifications were found to be incompatible with each other:\n",
      "\n",
      "Output in format: Requested package -> Available versions\n",
      "\n",
      "Package pytorch conflicts for:\n",
      "torchvision -> pytorch[version='*|1.10.*|1.10|1.12.0|1.12.1|1.13.0|1.13.1|2.0.0|2.0.1|2.1.0|>=2.0.0,<2.1.0a0|>=1.13.1,<1.14.0a0|>=1.13.0,<1.14.0a0|>=1.12.0,<1.13.0a0|>=1.11.0,<1.12.0a0|>=1.10.2,<1.11.0a0|1.10.0.*|>=1.8.0',build=cpu*]\n",
      "torchvision -> pytorch-cpu -> pytorch[version='1.10.0|1.10.0|1.10.0|1.10.0|1.10.1|1.10.1|1.10.2|1.10.2|1.10.2|1.10.2|1.11.0|1.11.0|1.11.0|1.11.0|1.11.0|1.11.0|1.11.0|1.11.0|1.11.0|1.12.0|1.12.0|1.12.0|1.12.0|1.12.0|1.12.0|1.12.0|1.12.0|1.12.0|1.12.1|1.12.1|1.12.1|1.12.1|1.12.1|1.12.1|1.13.0|1.13.0|1.13.0|1.13.0|1.13.1|1.13.1|1.13.1|1.13.1|1.13.1|1.13.1|1.13.1|1.13.1|2.0.0|2.0.0|2.0.0|2.0.0|2.0.0|2.0.0|2.0.0|2.0.0|2.0.0|2.0.0|2.0.0|2.0.0|2.0.0|2.0.0|2.0.0|2.0.0|2.0.0|2.0.0|2.0.0|2.0.0|2.1.0|1.9.1|1.9.1|1.9.0|1.9.0|1.9.0|1.9.0|1.9.0|1.9.0|1.8.0|1.8.0|1.8.0|1.8.0|1.8.0|1.8.0|1.8.0|1.8.0',build='cpu_py39hff516c6_0|cpu_py39hc766e51_1|cpu_py38h15dfef8_2|cpu_py39h8ae5edc_2|cpu_py38h15dfef8_0|cpu_py38h15dfef8_1|cpu_py38hff7f1bc_2|cpu_py39h7601aee_3|cpu_py38ha3d347f_3|cpu_py38h7444d52_1|cpu_py38h7444d52_0|cpu_py39hbfdb42d_0|cpu_py39hbfdb42d_0|cpu_py38h1b6422d_0|cpu_py310he9514b4_0|cpu_py38h17550ec_1|cpu_py39h03f923b_1|cpu_py39h03f923b_2|cpu_py38h17550ec_2|cpu_py310h61528c5_2|cpu_py310hb62697f_0|cpu_py38h3eb028a_0|cpu_py38h7afd69f_0|cpu_py39h0768760_0|cpu_py310h911b1ea_0|cpu_py39hf1faf6a_0|cpu_py310h7410233_0|cpu_py311h98403b3_0|cpu_py38hfb32b02_0|cpu_py311h98403b3_0|cpu_py310h7410233_0|cpu_py38hfb32b02_0|cpu_py39hf1faf6a_0|cpu_py310h32bc11d_1|cpu_py39he82db40_1|cpu_py311hb4bb8ad_0|cpu_py310h32bc11d_0|cpu_py38hb5ed39e_0|cpu_py39hda249e6_0|cpu_generic_py39hb35d202_1|cpu_generic_py311ha38e979_1|cpu_generic_py310h3496f23_1|cpu_generic_py39hdf1d804_3|cpu_generic_py311heca2501_3|cpu_generic_py38h1ad5e6f_4|cpu_generic_py311h9ea7f2d_4|cpu_generic_py310h7a13b03_4|cpu_generic_py310h7a13b03_0|cpu_generic_py311h9ea7f2d_0|cpu_generic_py312h28b293b_0|cpu_generic_py39h4a6bf10_0|cpu_generic_py38h1ad5e6f_0|cpu_generic_py39h4a6bf10_4|cpu_generic_py38had23297_3|cpu_generic_py310h9b0b4f9_3|cpu_generic_py38h88c01a6_2|cpu_generic_py310h588a15b_2|cpu_generic_py39h178f10f_2|cpu_generic_py311h2f67d2a_2|cpu_generic_py38hbf0e826_1|cpu_py38h0b410dd_1|cpu_py311hb4bb8ad_1|cpu_py38hfb32b02_1|cpu_py310h7410233_1|cpu_py39hf1faf6a_1|cpu_py38h7afd69f_2|cpu_py39h0768760_2|cpu_py310h911b1ea_2|cpu_py38h7afd69f_1|cpu_py39h0768760_1|cpu_py310h911b1ea_1|cpu_py39h7be5bbc_0|cpu_py310h61528c5_1|cpu_py39h19aa3d3_0|cpu_py38h7444d52_1|cpu_py39hbfdb42d_1|cpu_py38h7444d52_0|cpu_py39hbfdb42d_1|cpu_py39h7601aee_0|cpu_py38ha3d347f_0|cpu_py39he8fdc14_2|cpu_py39h8ae5edc_1|cpu_py39h8ae5edc_0|cpu_py38h15dfef8_3|cpu_py39h8ae5edc_3|cpu_py38hc43b888_1|cpu_py38h179404b_0']The following specifications were found to be incompatible with your system:\n",
      "\n",
      "  - feature:/osx-arm64::__osx==14.0=0\n",
      "  - feature:/osx-arm64::__unix==0=0\n",
      "  - feature:|@/osx-arm64::__unix==0=0\n",
      "  - python=3.12 -> ncurses[version='>=6.4,<7.0a0'] -> __osx[version='>=10.9']\n",
      "  - pytorch -> __osx[version='>=10.9|>=11.0']\n",
      "  - pytorch -> sympy -> __unix\n",
      "  - torchvision -> ffmpeg[version='>=4.2'] -> __osx[version='>=10.9|>=11.0']\n",
      "\n",
      "Your installed version is: 14.0\n",
      "\n",
      "\n",
      "Collecting package metadata (current_repodata.json): done\n",
      "Solving environment: unsuccessful initial attempt using frozen solve. Retrying with flexible solve.\n",
      "Solving environment: unsuccessful attempt using repodata from current_repodata.json, retrying with next repodata source.\n",
      "Collecting package metadata (repodata.json): | WARNING conda.models.version:get_matcher(556): Using .* with relational operator is superfluous and deprecated and will be removed in a future version of conda. Your spec was 1.8.0.*, but conda is ignoring the .* and treating it as 1.8.0\n",
      "WARNING conda.models.version:get_matcher(556): Using .* with relational operator is superfluous and deprecated and will be removed in a future version of conda. Your spec was 1.9.0.*, but conda is ignoring the .* and treating it as 1.9.0\n",
      "done\n",
      "Solving environment: unsuccessful initial attempt using frozen solve. Retrying with flexible solve.\n",
      "Solving environment: / \n",
      "Found conflicts! Looking for incompatible packages.\n",
      "This can take several minutes.  Press CTRL-C to abort.\n",
      "                                                                               failed\n",
      "\n",
      "UnsatisfiableError: The following specifications were found to be incompatible with each other:\n",
      "\n",
      "Output in format: Requested package -> Available versionsThe following specifications were found to be incompatible with your system:\n",
      "\n",
      "  - feature:/osx-arm64::__osx==14.0=0\n",
      "  - feature:/osx-arm64::__unix==0=0\n",
      "  - feature:|@/osx-arm64::__osx==14.0=0\n",
      "  - feature:|@/osx-arm64::__unix==0=0\n",
      "  - fastai -> nb_conda -> __unix\n",
      "  - fastai -> nb_conda -> __win\n",
      "  - fastai -> pandas -> __osx[version='>=10.9|>=11.0']\n",
      "\n",
      "Your installed version is: 14.0\n",
      "\n",
      "\n"
     ]
    }
   ],
   "source": [
    "!conda install pytorch torchvision -c pytorch\n",
    "!conda install -c fastai fastai"
   ]
  }
 ],
 "metadata": {
  "kernelspec": {
   "display_name": "py312",
   "language": "python",
   "name": "python3"
  },
  "language_info": {
   "codemirror_mode": {
    "name": "ipython",
    "version": 3
   },
   "file_extension": ".py",
   "mimetype": "text/x-python",
   "name": "python",
   "nbconvert_exporter": "python",
   "pygments_lexer": "ipython3",
   "version": "3.12.0"
  }
 },
 "nbformat": 4,
 "nbformat_minor": 2
}
